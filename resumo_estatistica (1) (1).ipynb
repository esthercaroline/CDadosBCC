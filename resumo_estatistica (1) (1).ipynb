{
 "cells": [
  {
   "cell_type": "code",
   "execution_count": 1,
   "metadata": {},
   "outputs": [],
   "source": [
    "import numpy as np\n",
    "import math\n",
    "import pandas as pd\n",
    "import scipy.stats as st\n",
    "\n",
    "import matplotlib.pyplot as plt"
   ]
  },
  {
   "cell_type": "markdown",
   "metadata": {},
   "source": [
    "# Uma distribuição \"teórica\"\n",
    "\n",
    "Até o momento, usamos distribuições arbitrárias, isto é, que saíram de dados inventados. Claro, sempre podemos usar uma contagem em uma quantidade grande de dados (ou: uma amostra grande) para *estimar* nossas probabilidades.\n",
    "\n",
    "Porém, o que queremos aqui é entender que, em algumas situações, podemos modelar o comportamento dos dados e então usar uma amostra relativamente pequena para extrapolar uma distribuição com vários pontos. Isso é parecido com o método que o IBGE usa nos censos, já que eles não vão sair perguntando por todas as casas do Brasil.\n",
    "\n",
    "## A distribuição Binomial\n",
    "\n",
    "O que precisamos relembrar sobre a Binomial é que ela ocorre quando:\n",
    "\n",
    "1. Realizamos um experimento $n$ vezes\n",
    "1. Cada experimento pode ter dois resultados: \"sucesso\" ou \"não-sucesso\".\n",
    "1. Cada experimento é independente dos demais\n",
    "1. Cada experimento tem a mesma chance $p$ de sucesso\n",
    "1. Queremos contar o número $k$ de sucessos\n",
    "\n",
    "Nessa situação, podemos olhar para os símbolos como:\n",
    "- $P$ - probabilidade da situação escolhida acontecer\n",
    "- $k$ - número de ocorrencias do resultado específico que queremos observar\n",
    "- $n$ - número de experimentos\n",
    "- $p$ - probabilidade de um único experimento dar aquele resultado.\n",
    "\n",
    "A distribuição Binomial nos dá uma probabilidade $P(X=k | n,p)$ de obtermos $k$ sucessos dado que conhecemos o número $n$ de experimentos e a probabilidade de sucesso em um experimento $p$.\n",
    "\n",
    "\n",
    "Usualmente, a Binomial é explicada como uma série de jogadas de moedas. Veja como esse exemplo corresponde à teoria:\n",
    "\n",
    "| Teoria | Jogada de moeda |\n",
    "| --- | --- |\n",
    "| Realizamos um experimento $n$ vezes | Joguei $n$ moedas |\n",
    "| Cada experimento pode ter dois resultados: \"sucesso\" ou \"não-sucesso\". | Pode dar \"cara\" ou \"coroa\" |\n",
    "| Cada experimento é independente dos demais | O resultado de uma jogada não afeta o resultado da próxima jogada |\n",
    "| Cada experimento tem a mesma chance $p$ de sucesso | Estou usando a mesma moeda toda vez! |\n",
    "| Queremos contar o número $k$ de sucessos | Quero contar o número $k$ de \"cara\"s |\n"
   ]
  },
  {
   "cell_type": "markdown",
   "metadata": {},
   "source": [
    "### Exemplo Bobo - Escorregar ao Sair de Casa\n",
    "\n",
    "Em um dia qualquer, senhor João Alfredo (nome meramente ilustrativo) pode ou não escorregar e se ralar inteiro ao sair de casa. Isso acontece em 15% dos dias. Um mês é considerado estressante se ele cair em pelo menos 9 dias, dobrando a sua taxa normal. Qual a chance dele ter um mês estressante?\n",
    "\n",
    "### Exemplo mais Concreto - Trânsito\n",
    "\n",
    "Na cidade de São Paulo, temos uma quantidade enorme de carros em circulação. Isso acarreta em um trânsito pesado. Quando um aluno do Insper sai da faculdade, pelo fato da Quatá ser do tamanho de um apartamento estúdio, ele encontra trânsito em 60% dos dias. Qual é a probabilidade de, em uma semana útil, ele não pegar trânsito?\n",
    "\n",
    "`Ambos os problemas são possível de serem modelados por uma Binomial pois assumimos que cada dia tem a mesma possibilidade do evento acontecer, e que o resultado de um dia não impacta outro.`\n",
    "\n",
    "Com isso em mente, resolva ambos os exercícios."
   ]
  },
  {
   "cell_type": "code",
   "execution_count": 2,
   "metadata": {},
   "outputs": [
    {
     "name": "stdout",
     "output_type": "stream",
     "text": [
      "A chance de um Mês ser Estressante é de:  0.02777820717023949\n",
      "A chance de uma semana não ter trânsito é de:  0.010240000000000006\n"
     ]
    }
   ],
   "source": [
    "escorregar = 0.15\n",
    "mes = 30\n",
    "dias_estresse = 9\n",
    "\n",
    "p_mes_estresse = 1 - st.binom.cdf(dias_estresse-1,mes,escorregar)\n",
    "print(\"A chance de um Mês ser Estressante é de: \", p_mes_estresse)\n",
    "\n",
    "\n",
    "transito = 0.6\n",
    "semana_util = 5\n",
    "\n",
    "# nesse exemplo específico, a probabilidade de não ter trânsito pode ser tanto uma pmf quanto uma cdf\n",
    "p_nao_transito = st.binom.pmf(0,semana_util,transito)\n",
    "p_nao_transito = st.binom.cdf(0,semana_util,transito)\n",
    "print(\"A chance de uma semana não ter trânsito é de: \", p_nao_transito)"
   ]
  },
  {
   "cell_type": "markdown",
   "metadata": {},
   "source": [
    "## A distribuição de Poisson\n",
    "\n",
    "Poisson geralmente é apresentado como \"Jogar moedas ao infinito\", \"Uma binomial onde não se tem o número de experimentos realizados\", mas o que isso realmente significa? A resposta básica é que, em Poisson, lidamos com um espaço amostral contínuo, e não discreto.\n",
    "\n",
    "Um exemplo disso seria a quantidade de ônibus que passam em uma rua. Se isso fosse modelado por uma Binomial, teríamos que dividir um espaço de tempo em diversas repartições e calcular a possibilidade de um ônibus passar em cada uma delas. Se você fizer isso com segmentos suficientemente pequenos, pode calcular a probabilidade de cada segmento ter o resultado esperado, e extrapolar o resultado para outras situações.\n",
    "\n",
    "Mas, isso é apenas algo teórico. Na prática, utilizamos a distribuição de Poisson. Veja, para usar a distribuição de Poisson, estamos supondo que:\n",
    "* Os \"experimentos\" acontecem de forma contínua (por exemplo, no tempo ou no espaço)\n",
    "* Em um intervalo pré-definido, encontramos $\\lambda$ sucessos\n",
    "* Os sucessos são independentes entre si\n",
    "* A probabilidade de sucesso tende a zero, mas é constante\n",
    "\n",
    "\n",
    "| Teoria | Ponto de ônibus |\n",
    "| --- | --- |\n",
    "| Cada experimento pode ter um número de acontecimentos. | Podem aparecer $x$ ônibus dado um período de tempo |\n",
    "| Cada experimento é independente dos demais | O fato de um ônibus aparecer não afeta se haverá um próximo |\n",
    "| Queremos contar o número $\\lambda$ de sucessos | Quero contar o número $\\lambda$ de ônibus que aparecem |"
   ]
  },
  {
   "cell_type": "markdown",
   "metadata": {},
   "source": [
    "### Exemplo Bobo - Travar em uma Apresentação\n",
    "\n",
    "Ao apresentar um trabalho, senhor João Alfredo (nome meramente ilustrativo) pode ou não travar no meio de uma explicação, mostrando a todos que ele está ansioso. Ele, geralmente, trava apenas 3 vezes. Qual a probabilidade dele não travar? Uma dessas apresentações é considerado horrível se ele travar em mais de 8 ocasiões, qual é a probabilidade de uma apresentação ser horrível? Em 70% dos casos, qual é o maior número de \"travadas\" que acontecem?\n",
    "\n",
    "### Exemplo mais Concreto - 6o Andar\n",
    "\n",
    "No Insper, o 6o andar do P2 nos trás um local confortável para comer e socializar. Mas, isso pode ser interrompido por dias onde ele está completamente cheio, não tendo local para sentar. Um dia é considerado cheio se ele tem mais de 40 pessoas. Tendo em mente que a média de alunos nesse andar durante o período do almoço é de 20.9, qual a chance de, em um dia qualquer, temos um andar cheio? Em 90% dos dias, qual a quantidade máxima de clientes que o 6o andar recebe?\n",
    "\n",
    "`Ambos os problemas são possível de serem modelados por Poisson pois assumimos que cada intervalo de tempo tem um número específica de eventos, uma ocorrencia não impacta outra e que esses ocorrencias acontecem de forma contínua.`\n",
    "\n",
    "Com isso em mente, resolva ambos os exercícios."
   ]
  },
  {
   "cell_type": "code",
   "execution_count": 3,
   "metadata": {},
   "outputs": [
    {
     "name": "stdout",
     "output_type": "stream",
     "text": [
      "Probabilidade de não travar:  0.049787068367863944\n",
      "Probabilidade de ter uma apresentação horrível 0.0038029920616760027\n",
      "Número máximo de travadas em 70% dos casos: 4.0\n"
     ]
    }
   ],
   "source": [
    "travadas_por_apresentacao = 3\n",
    "\n",
    "# probabilidade dele não travar\n",
    "p1 = st.poisson.pmf(0, travadas_por_apresentacao)\n",
    "print(\"Probabilidade de não travar: \",p1)\n",
    "\n",
    "# probabilidade dele ter uma apresentação horrível\n",
    "p2 = 1-st.poisson.cdf(8, travadas_por_apresentacao)\n",
    "print(\"Probabilidade de ter uma apresentação horrível\", p2)\n",
    "\n",
    "# número máximo de travadas em 70% dos casos\n",
    "k0 = st.poisson.ppf(0.7, travadas_por_apresentacao)\n",
    "print(\"Número máximo de travadas em 70% dos casos:\", k0)"
   ]
  },
  {
   "cell_type": "markdown",
   "metadata": {},
   "source": [
    "## A distribuição Exponencial\n",
    "\n",
    "Já vimos casos com espaços contínuos e discretos quando se vem a resultados independentes. Mas, e se quisermos o tempo por resultado, ao invés do resultado por tempo? Para isso, utilizamos a exponencial.\n",
    "\n",
    "Geralmente, procuramos o tempo entre um evento e outro. Um exemplo pertinente é o de uma partida de futebol. Um time *Clube de Regatas do Tiagão* joga no torneio mundialmente conhecido **Copa Miranda**. Em suas partidas, ele geralmente marca 3 gols. \n",
    "\n",
    "Isso nos dá:\n",
    "* $\\lambda$ - Média de Gols por Partida = 3\n",
    "* $\\mu$ - $\\frac{1}{\\lambda}$\n",
    "\n",
    "Mas, para que serve o $\\mu$? Ele é a média da distribuição exponencial. Ele é o parâmetro que passamos para calcular o tempo até um gol ser marcado, no nosso exemplo. Em maneira geral, ele nospossibilta chegar nesses intervalos de tempo ou probabilidades que procuramos.\n",
    "\n",
    "Vamos tentar, agora, resolver o seguinte problema: Qual o tempo médio até um gol ser marcado pelo *Amigos do Tiagão*?\n"
   ]
  },
  {
   "cell_type": "code",
   "execution_count": 4,
   "metadata": {},
   "outputs": [
    {
     "name": "stdout",
     "output_type": "stream",
     "text": [
      "30.0\n",
      "30.0\n"
     ]
    }
   ],
   "source": [
    "N_gols = 3 # numero medio de gols por partida  \n",
    "Duracao_Partida = 90 # Duração média da partida (minutos)\n",
    "Lambda = N_gols/Duracao_Partida # Número de gols por minuto\n",
    "mu = 1/Lambda\n",
    "print(st.expon.mean(scale=mu)) # Se Poisson nos dá gols por minuto, a exponencial correspondente nos dá minutos por gol\n",
    "print(st.expon.std(scale=mu)) "
   ]
  },
  {
   "cell_type": "markdown",
   "metadata": {},
   "source": [
    "### Teoria: Da PMF para a PDF\n",
    "\n",
    "A distribuição exponencial está num domínio contínuo. Isso se opõe à Binomial ou a Poisson, em que poderíamos calcular a probabilidade de nosso resultado ser, por exemplo, exatamente igual a 10. Numa distribuição contínua, podemos calcular a probabilidade de nosso resultado ser exatamente igual a qualquer número real (no domínio da função, é claro).\n",
    "\n",
    "Isso tem uma implicação interessante: como há infinitas possibilidades para o resultado do experimento, a probabilidade de cada um deles é $1/\\infty = 0$. Por isso, não temos mais uma função de massa de probabilidade (PMF), e sim uma função de *densidade* de probabilidade (PDF). A PDF indica que há mais probabilidade em uma região, mas não significa que a probabilidade de um resultado do experimento é exatamente aquele.\n",
    "\n",
    "Para calcular probabilidades, vamos usar a CDF.\n",
    "\n",
    "A *cdf* é uma soma ao longo de uma curva contínua, isto é, uma integral. Em geral, usamos $P(X \\leq x)$ para representar a *cdf* e essa função que foi integrada chama-se *função densidade de probabilidade* (*pdf*). É importante lembrar que:\n",
    "\n",
    "$$\n",
    "P(X \\leq x) = \\int_{-\\infty}^x p(X) dX\n",
    "$$\n",
    "\n",
    "e, portanto,\n",
    "\n",
    "$$\n",
    "p(X) = \\frac{dP(x)}{dx}\n",
    "$$"
   ]
  },
  {
   "cell_type": "markdown",
   "metadata": {},
   "source": [
    "### Exemplo Bobo - Futebol\n",
    "\n",
    "Qual a probabilidade do *Clube de Regatas do Tiagão* ficar uma partida inteira sem marcar um gol?\n",
    "\n",
    "\n",
    "### Exemplo Mais Concreto - Ônibus\n",
    "Vamos partir da situação em que estamos esperando o ônibus chegar em uma estação. Se sabemos que o ônibus passa, em média, 1 vez por hora.\n",
    "\n",
    "Qual é a probabilidade de esperarmos por $1$ hora e não encontrarmos nenhum ônibus?"
   ]
  },
  {
   "cell_type": "code",
   "execution_count": 5,
   "metadata": {},
   "outputs": [
    {
     "name": "stdout",
     "output_type": "stream",
     "text": [
      "Probabilidade de nenhum gol ser marcado em uma partida:  0.04978706836786395\n",
      "Probabilidade de nenhum ônibus aparecer em uma hora:  0.36787944117144233\n"
     ]
    }
   ],
   "source": [
    "gols_partida = 3\n",
    "minutos_partida = 90\n",
    "gols_minutos = gols_partida/minutos_partida\n",
    "\n",
    "mu = 1/gols_minutos\n",
    "\n",
    "p = 1-st.expon.cdf(minutos_partida, scale=mu) \n",
    "print(\"Probabilidade de nenhum gol ser marcado em uma partida: \", p)\n",
    "\n",
    "\n",
    "Lambda = 1 # Quantos ônibus passam por hora?\n",
    "horas=1 # Será que vou esperar esse número de horas?\n",
    "\n",
    "mu = 1/Lambda\n",
    "\n",
    "# estamos vendo a probabilidade de esperarmos x horas ou mais pelo ônibus\n",
    "p = 1-st.expon.cdf(horas, scale=mu) \n",
    "print(\"Probabilidade de nenhum ônibus aparecer em uma hora: \", p)"
   ]
  },
  {
   "cell_type": "markdown",
   "metadata": {},
   "source": [
    "### Exponencial e Poisson - Lados diferentes da Mesma Moeda\n",
    "\n",
    "Uma distribuição Exponencial pode ser utilizada em situações onde Poisson é aplicada, mas de maneira a complementar a análise. \n",
    "\n",
    "Vamos pensar em um restaurante. Com Poisson, conseguimos calcular o número de pessoas que entram para comer dado um intervalo de tempo. Com a exponencial, conseguimos ver o tempo entre um cliente e outro.\n",
    "\n",
    "Agora, é só colocar isso em prática. Vamos supor que o restaurante *Hamburgueria Tavares* tenha uma média de 37 clientes durante o horário de almoço (11:15 as 14:15). Qual a probabilidade de termos um almoço com menos de 10 clientes? Qual é o tempo médio e minutos entre a chegada de um cliente e outro?"
   ]
  },
  {
   "cell_type": "code",
   "execution_count": 6,
   "metadata": {},
   "outputs": [
    {
     "name": "stdout",
     "output_type": "stream",
     "text": [
      "Probabilidade de Termos um Almoço com menos de 10 clientes:  3.9961891902385405e-08\n",
      "Tempo médio em minutos entre a chegada de um cliente e outro:  4.864864864864865\n"
     ]
    }
   ],
   "source": [
    "clientes_almoco = 37\n",
    "\n",
    "p_almoco_pouco_cliente = st.poisson.cdf(9,clientes_almoco)\n",
    "\n",
    "print(\"Probabilidade de Termos um Almoço com menos de 10 clientes: \", p_almoco_pouco_cliente)\n",
    "\n",
    "almoco_minutos = 180\n",
    "Lambda = clientes_almoco/almoco_minutos\n",
    "mu = 1/(Lambda)\n",
    "\n",
    "print(\"Tempo médio em minutos entre a chegada de um cliente e outro: \", st.expon.mean(scale=mu))"
   ]
  },
  {
   "cell_type": "markdown",
   "metadata": {},
   "source": [
    "## A Distribuição Normal\n",
    "\n",
    "O básico a ser notado é que queremos estimar propriedades de outras distribuições. O que quero dizer com isso é o seguinte:\n",
    "* a distribuição Normal serve para modelar os valores de várias medidas de médias para outras distribuições\n",
    "\n",
    "\n",
    "### Teorema Central do Limite\n",
    "Vamos utilizar como exemplo, mais uma vez, Poisson. Utilizando essa distribuição, queremos modelar o número de vezes que um atleta respira durante uma corrida. Isso pode ser feito de maneira simples: medimos quantas vezes esse atleta respira em um trecho da corrida, assim, estimando o $\\lambda$ (média). \n",
    "\n",
    "Mas, isso é apenas uma amostra, um $\\hat{\\lambda}$, ele não é a real média. Vamos supor que existe uma média real e verdadeira para a quantidade de inalações que o atleta realiza. Se nós medirmos vários trechos vamos ter vários $\\hat{\\lambda}$, cada um diferente do outro e da média real.\n",
    "\n",
    "A média real no nosso exemplo é de $\\lambda = 180$. Apesar disso, nem todo $\\hat{\\lambda}$ vai ser próximo de 180. Podemos ter uma situação onde medimos um determinado trecho e acabamos com $\\hat{\\lambda} = 500$, já que há posições mais íngrimes que outras. Então, o que podemos fazer para combater isso?\n",
    "\n",
    "Uma ideia é medir vários $\\hat{\\lambda}$ e tirar a média dessas estimativas. Assim, dado um número grande o suficiente de medidas, teremos algo perto da real média. Essa é a **Teorema Central do Limite**, ou **Teorema do Limite Central**.\n",
    "\n",
    "Na verdade, essa estimativa que vem da média de outras médias segue uma distribuição Normal com média $\\mu$ e variância $\\sigma^2/N$, ou, em notação matemática:\n",
    "\n",
    "$$\n",
    "\\bar{X} \\sim N\\left(\\mu,\\frac{\\sigma^2}{N}\\right),\n",
    "$$\n",
    "onde:\n",
    "\n",
    "* $\\mu$ é a média real da distribuição que gerou as amostras $x_n$\n",
    "* $\\sigma^2$ é a variância real da distribuição que gerou as amostras $x_n$\n",
    "\n",
    "Agora, o que podemos fazer quando sabemos o real valor de $\\mu$ e de $\\sigma$? Aí entra a outra parte da distribuição Normal: **Intervalos de Confiança**.\n"
   ]
  },
  {
   "cell_type": "markdown",
   "metadata": {},
   "source": [
    "### Intervalos de Confiança\n",
    "\n",
    "Intervalos de confiança são repartições simétricas da curva Normal que nos dão uma certeza de que é ali onde se encontram uma parcela $p$ desses valores de $\\hat{\\lambda}$. Em termos simples, nos dão o intervalo onde $P$ amostras estão.\n",
    "\n",
    "### Exemplo Mais Concreto - Atletismo\n",
    "\n",
    "Uma maneira de exemplificar isso, utilizando a analogia do atletismo, é a seguinte: um atleta chamado João Alfredo (nome meramente ilustrativo) chega em média na $7^a$ posição em suas corridas, geralmente podendo ter 2 posições de diferença , qual é o intervalo onde 90% dos resultados estão?\n",
    "\n",
    "Uma maneira de visualizar melhor esse exemplo é:\n",
    "* $\\mu = 7$\n",
    "* $\\sigma^2 = 2$\n",
    "\n",
    "Nesse caso, estamos procurando dois valores que nos dão o seguinte resultado: *Acima de $a$ e abaixo de $b$ temos $P(X \\geq a \\cap X \\leq a) = 0.9$ (90%) resultados*. Para isso, temos que dividir a diferenca entre %P% e 100% em dois, calculando $P(X \\leq a)$ e $P(X \\geq a)$."
   ]
  },
  {
   "cell_type": "code",
   "execution_count": 7,
   "metadata": {},
   "outputs": [
    {
     "name": "stdout",
     "output_type": "stream",
     "text": [
      "4.673825692646652 9.326174307353348\n"
     ]
    }
   ],
   "source": [
    "# P(X <= a) = 0.1/2 = 0.05\n",
    "\n",
    "Lambda = 7\n",
    "mu = st.poisson.mean(Lambda)\n",
    "var = 2\n",
    "std = np.sqrt(var)\n",
    "\n",
    "a = st.norm.ppf(0.05, loc=mu, scale=std)\n",
    "b = st.norm.ppf(1-0.05, loc=mu, scale=std)\n",
    "print(a,b)"
   ]
  },
  {
   "cell_type": "markdown",
   "metadata": {},
   "source": [
    "Vamos melhorar esse cálculo um pouco adicionando o número de corridas que foram avaliadas. Diremos que observamos 4 ($n$) corridas. Para complicar ainda mais, vamos desconsiderar o $\\sigma$ anterior. Agora, não sabemos realmente o valor de $\\sigma$, mas o conseguimos calcular da seguinte maneira:\n",
    "\n",
    "$$\n",
    "\\sigma = \\frac{std(\\lambda)}{\\sqrt{n}}\n",
    "$$\n",
    "\n",
    "Refazendo o cálcumo acima, temos:"
   ]
  },
  {
   "cell_type": "code",
   "execution_count": 8,
   "metadata": {},
   "outputs": [
    {
     "name": "stdout",
     "output_type": "stream",
     "text": [
      "4.824063179991897 9.175936820008102\n"
     ]
    }
   ],
   "source": [
    "# P(X <= a) = 0.1/2 = 0.05\n",
    "\n",
    "Lambda = 7\n",
    "numero_de_corridas = 4\n",
    "mu = st.poisson.mean(Lambda) # nesse caso é igual a lambda\n",
    "sigma = st.poisson.std(Lambda)/(np.sqrt(numero_de_corridas))\n",
    "\n",
    "a = st.norm.ppf(0.05, loc=mu, scale=sigma)\n",
    "b = st.norm.ppf(1-0.05, loc=mu, scale=sigma)\n",
    "print(a,b)"
   ]
  }
 ],
 "metadata": {
  "kernelspec": {
   "display_name": "venv",
   "language": "python",
   "name": "python3"
  },
  "language_info": {
   "codemirror_mode": {
    "name": "ipython",
    "version": 3
   },
   "file_extension": ".py",
   "mimetype": "text/x-python",
   "name": "python",
   "nbconvert_exporter": "python",
   "pygments_lexer": "ipython3",
   "version": "3.11.4"
  }
 },
 "nbformat": 4,
 "nbformat_minor": 2
}
