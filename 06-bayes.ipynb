{
 "cells": [
  {
   "cell_type": "markdown",
   "metadata": {},
   "source": [
    "# 06 - Teorema de Bayes\n",
    "**Objetivo da aula**: ao fim desta aula, o aluno será capaz de usar o Teorema de Bayes para calcular probabilidades condicionais."
   ]
  },
  {
   "cell_type": "markdown",
   "metadata": {},
   "source": [
    "# Texto introdutório\n",
    "\n",
    "Veja este [material em vídeo](https://youtu.be/U_8yzL0jpEY).\n",
    "\n",
    "Se quiser, [leia este artigo](https://www.scientificamerican.com/article/what-is-bayess-theorem-an/) sobre o Teorema de Bayes.\n",
    "\n",
    "Quando temos probabilidades condicionais, já vimos que:\n",
    "\n",
    "<img src=\"figuras/venn_2.png\" />\n",
    "\n",
    "$$\n",
    "P(A|B) = \\frac{P(A \\cap B)}{P(B)}\n",
    "$$\n",
    "\n",
    "Em várias situações, temos acesso direto (isto é, podemos medir) $P(A|B)$, mas na verdade estamos interessados em $P(B|A)$, ou vice-versa. Por exemplo:\n",
    "\n",
    "1. Em um exame para detectar uma doença, precisamos saber a probabilidade de ter a doença dado o resultado do exame, mas só sabemos, em laboratório, a chance de um falso positivo, isto é, de o exame retornar positivo sob a hipótese de que o paciente tem a doença,\n",
    "1. Em um sistema de segurança, precisamos saber a probabilidade de estar havendo um ataque dado o diagnóstico dos equipamentos, mas só conseguimos saber como os equipamentos se comportam se um ataque está acontecendo,\n",
    "1. Em um chatbot, precisamos saber a probabilidade de o usuário ter a intenção de fazer a uma determinada ação dadas as palavras usadas, mas só podemos medir a probabilidade de usar as palavras dadas intenções que conhecemos.\n",
    "\n",
    "Nessas situações, precisamos usar o Teorema de Bayes. Ele funciona da seguinte forma:\n",
    "\n",
    "Multiplincando os dois lados da equação por $P(B)$:\n",
    "$$\n",
    "\\begin{align*}\n",
    "P(A|B) &= \\frac{P(A \\cap B)}{P(B)}\\\\\n",
    "P(A|B) P(B) &= P(A \\cap B)\n",
    "\\end{align*}\n",
    "$$\n",
    "\n",
    "Podemos fazer o mesmo com $P(B|A)$:\n",
    "\n",
    "$$\n",
    "\\begin{align*}\n",
    "P(B|A) &= \\frac{P(B \\cap A)}{P(A)}\\\\\n",
    "P(B|A) P(A) &= P(B \\cap A)\n",
    "\\end{align*}\n",
    "$$\n",
    "\n",
    "Como $P(A \\cap B) = P(B \\cap A)$, então:\n",
    "\n",
    "$$\n",
    "P(A|B)P(B) = P(B|A)P(A)\n",
    "$$\n",
    "\n",
    "(este é o Teorema de Bayes!)\n",
    "\n",
    "E, assim, podemos \"inverter\" as condições da probabilidade condicional."
   ]
  },
  {
   "cell_type": "markdown",
   "metadata": {},
   "source": [
    "# Exercício 1\n",
    "*Objetivo: usar o Teorema de Bayes para calcular uma probabilidade*\n",
    "\n",
    "Em um restaurante, sabemos que:\n",
    "\n",
    "* 10\\% dos clientes pedem hamburguer\n",
    "* 50\\% dos clientes pedem suco\n",
    "* Dentre os clientes que pedem suco, 50\\% pedem hamburguer.\n",
    "\n",
    "Sabendo que um cliente pediu hamburguer, qual é a probabilidade dele ter pedido suco?"
   ]
  },
  {
   "cell_type": "code",
   "execution_count": null,
   "metadata": {},
   "outputs": [],
   "source": [
    "ph = 0.9\n",
    "ps = 0.5\n",
    "phs = 0.5\n",
    "psh = (phs * ps) / ph"
   ]
  },
  {
   "cell_type": "markdown",
   "metadata": {},
   "source": [
    "# Exercício 2\n",
    "*Objetivo: verificar o Teorema de Bayes em uma base de dados real e conectar a notação matemática a sua contrapartida computacional*\n",
    "\n",
    "Em uma base de dados, pode ser possível calcular tanto $P(A|B)$ quanto $P(B|A)$ usando somente os dados que temos.\n",
    "\n",
    "Usando a base de dados de clientes do iFood, calcule $P(\\text{solteiro}| \\text{PhD})$, isto é, a probabilidade de um cliente ser solteiro dado que sabemos que ele tem um PhD, por dois métodos:\n",
    "\n",
    "1. Diretamente, usando filtros, e\n",
    "1. Indiretamente, através de usar $P(\\text{solteiro})$, $P(\\text{PhD})$, $P(\\text{PhD}| \\text{solteiro})$ e o Teorema de Bayes."
   ]
  },
  {
   "cell_type": "code",
   "execution_count": 3,
   "metadata": {},
   "outputs": [
    {
     "name": "stdout",
     "output_type": "stream",
     "text": [
      "0.20164609053497942\n"
     ]
    }
   ],
   "source": [
    "import pandas as pd\n",
    "df = pd.read_csv('dados/iFood/ml_project1_data.csv')\n",
    "df_phd = df[df['Education'] == 'PhD']\n",
    "df_solteiro_phd = df_phd[df_phd['Marital_Status'] == 'Single']\n",
    "p_phd_solteiro = len(df_solteiro_phd) / len(df_phd)\n",
    "\n",
    "\n",
    "print(p_phd_solteiro)"
   ]
  },
  {
   "cell_type": "code",
   "execution_count": 7,
   "metadata": {},
   "outputs": [
    {
     "name": "stdout",
     "output_type": "stream",
     "text": [
      "0.2016460905349794\n"
     ]
    }
   ],
   "source": [
    "df_solteiro = df[df['Marital_Status'] == 'Single']\n",
    "df_phd = df[df['Education'] == 'PhD']\n",
    "df_phd_solteiro = df_solteiro[df_solteiro['Education'] == 'PhD']\n",
    "\n",
    "\n",
    "p_phd = len(df_phd) / len(df)\n",
    "p_solteiro = len(df_solteiro) / len(df)\n",
    "p_phd_dado_solteiro = len(df_phd_solteiro) / len(df_solteiro)\n",
    "\n",
    "p_solteiro_dado_phd = (p_phd_dado_solteiro * p_solteiro) / p_phd\n",
    "print(p_solteiro_dado_phd)"
   ]
  },
  {
   "cell_type": "markdown",
   "metadata": {},
   "source": [
    "# Exercício 3\n",
    "*Objetivo: aplicar o Teorema de Bayes em uma situação de medida laboratorial*\n",
    "\n",
    "Ao testar um sistema de visão computacional para acesso de segurança, foram encontrados os seguintes números:\n",
    "\n",
    "* A probabilidade do sistema aceitar como segura uma imagem que, de fato, é de um usuário autorizado ($P(+ | s)$) é de $0.90$,\n",
    "* A probabilidade do sistema aceitar erroneamente uma imagem que não é de um usuário autorizado ($P(+ | \\bar{s})$) é de $0.01$.\n",
    "* Tipicamente, 70% das tentativas de acesso são legítimas, isto é, $P(s)=0.7$.\n",
    "\n",
    "Se o sistema apontou que um acesso é legítimo, qual é a probabilidade de que ele seja de fato legítimo, isto é, calcule $P(s | +)$.\n",
    "\n",
    "Para este exercício, [veja este vídeo](https://youtu.be/bISWzyi0tDE), e depois [este outro](https://youtu.be/e2tog7ojm04)."
   ]
  },
  {
   "cell_type": "code",
   "execution_count": null,
   "metadata": {},
   "outputs": [],
   "source": [
    "p_mais_dado_s = 0.9\n",
    "p_mais_dado_naos = 0.01\n",
    "p_s = 0.7\n",
    "p_mais = \n"
   ]
  },
  {
   "cell_type": "markdown",
   "metadata": {},
   "source": []
  },
  {
   "cell_type": "markdown",
   "metadata": {},
   "source": [
    "# Exercício 4\n",
    "*Objetivo: usar o Teorema de Bayes para fazer um processo de classificação*\n",
    "\n",
    "O rock é um estilo musical marcado por guitarras distorcidas. Poderíamos estimar que 90% das músicas de rock têm guitarras distorcidas. Porém, as guitarras distorcidas também aparecem no axé: 20% das músicas de axé têm guitarras distorcidas. Ao todo, as guitarras distorcidas aparecem em 70% do conjunto total de músicas de rock e axé.\n",
    "\n",
    "1. Durante o carnaval, 90% das músicas que tocam no rádio são axé, e somente 10% são de rock. Se uma música tem guitarras distorcidas, qual é a probabilidade de se tratar de rock? Qual é a probabilidade de se tratar de axé? Qual é a escolha mais provavelmente correta?\n",
    "1. Em uma viagem a Seattle, 70% das músicas que tocam na rádio são rock, ao passo que 30% são axé (desde a grande invasão tropical). Se ouço uma música com guitarras distorcidas, qual é a probabilidade de se tratar de rock? Qual é a probabilidade de se tratar de axé? Qual é a escolha mais provavelmente correta?\n"
   ]
  },
  {
   "cell_type": "markdown",
   "metadata": {},
   "source": [
    "p_g_dado_rock = 0.9\n",
    "p_g_dado_axe = 0.2\n",
    "p_g = 0.7\n",
    "p_rock = 0.1\n",
    "p_axe = 0.9\n",
    "p_rock_dado_g = (p_g_dado_rock * p_rock)/ p_g\n",
    "p_axe_dado_g = (p_g_dado_axe * p_axe)/ p_g\n",
    "\n"
   ]
  },
  {
   "cell_type": "markdown",
   "metadata": {},
   "source": []
  }
 ],
 "metadata": {
  "kernelspec": {
   "display_name": "cdados",
   "language": "python",
   "name": "python3"
  },
  "language_info": {
   "codemirror_mode": {
    "name": "ipython",
    "version": 3
   },
   "file_extension": ".py",
   "mimetype": "text/x-python",
   "name": "python",
   "nbconvert_exporter": "python",
   "pygments_lexer": "ipython3",
   "version": "3.11.4"
  },
  "orig_nbformat": 4
 },
 "nbformat": 4,
 "nbformat_minor": 2
}
